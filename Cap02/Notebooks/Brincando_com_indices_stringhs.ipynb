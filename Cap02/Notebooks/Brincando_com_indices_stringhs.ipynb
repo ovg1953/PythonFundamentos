{
 "cells": [
  {
   "cell_type": "markdown",
   "metadata": {},
   "source": [
    "### brincando com indice e métodos dos objetos tipo string (cadeias de caracteres)\n",
    "\n",
    "> todos métodos -> aqui https://www.programiz.com/python-programming/methods/string/\n",
    "\n",
    "#### A variável cchar recebe os 10 primeiros caracteres do alfabeto\n",
    "#### e variavel cposi recebe o numero do indice de cada letra 0-9\n",
    "\n",
    ">depois é brincar com o indice cchar[poisção inicial:(posição final - 1):repeticão]\n",
    ">\n",
    ">cposi[poisção inicial:(posição final - 1):repeticão]\n",
    ">"
   ]
  },
  {
   "cell_type": "markdown",
   "metadata": {},
   "source": [
    "### pega os caracteres nas posiçõe múltiplas do número de repetição "
   ]
  },
  {
   "cell_type": "code",
   "execution_count": 1,
   "metadata": {},
   "outputs": [],
   "source": [
    "cchar = 'abcdefghij'\n",
    "cposi = '0123456789'"
   ]
  },
  {
   "cell_type": "markdown",
   "metadata": {},
   "source": [
    "> de um em um"
   ]
  },
  {
   "cell_type": "code",
   "execution_count": 2,
   "metadata": {},
   "outputs": [
    {
     "name": "stdout",
     "output_type": "stream",
     "text": [
      "abcdefghij\n",
      "0123456789\n"
     ]
    }
   ],
   "source": [
    "print(cchar[::1])\n",
    "print(cposi[::1])"
   ]
  },
  {
   "cell_type": "markdown",
   "metadata": {},
   "source": [
    "> de dois em dois"
   ]
  },
  {
   "cell_type": "code",
   "execution_count": 3,
   "metadata": {},
   "outputs": [
    {
     "name": "stdout",
     "output_type": "stream",
     "text": [
      "acegi\n",
      "02468\n"
     ]
    }
   ],
   "source": [
    "print(cchar[::2])\n",
    "print(cposi[::2])"
   ]
  },
  {
   "cell_type": "markdown",
   "metadata": {},
   "source": [
    "> de três em três"
   ]
  },
  {
   "cell_type": "code",
   "execution_count": 4,
   "metadata": {
    "scrolled": true
   },
   "outputs": [
    {
     "name": "stdout",
     "output_type": "stream",
     "text": [
      "adgj\n",
      "0369\n"
     ]
    }
   ],
   "source": [
    "print(cchar[::3])\n",
    "print(cposi[::3])"
   ]
  },
  {
   "cell_type": "markdown",
   "metadata": {},
   "source": [
    "> de quatro em quatro"
   ]
  },
  {
   "cell_type": "code",
   "execution_count": 5,
   "metadata": {},
   "outputs": [
    {
     "name": "stdout",
     "output_type": "stream",
     "text": [
      "aei\n",
      "048\n"
     ]
    }
   ],
   "source": [
    "print(cchar[::4])\n",
    "print(cposi[::4])"
   ]
  },
  {
   "cell_type": "markdown",
   "metadata": {},
   "source": [
    "de trás pra frente"
   ]
  },
  {
   "cell_type": "code",
   "execution_count": 13,
   "metadata": {},
   "outputs": [
    {
     "name": "stdout",
     "output_type": "stream",
     "text": [
      "jihgfedcba\n",
      "9876543210\n"
     ]
    }
   ],
   "source": [
    "print(cchar[::-1])\n",
    "print(cposi[::-1])"
   ]
  },
  {
   "cell_type": "code",
   "execution_count": 7,
   "metadata": {},
   "outputs": [
    {
     "name": "stdout",
     "output_type": "stream",
     "text": [
      "jhfdb\n",
      "97531\n"
     ]
    }
   ],
   "source": [
    "print(cchar[::-2])\n",
    "print(cposi[::-2])"
   ]
  },
  {
   "cell_type": "code",
   "execution_count": 8,
   "metadata": {},
   "outputs": [
    {
     "name": "stdout",
     "output_type": "stream",
     "text": [
      "jgda\n",
      "9630\n"
     ]
    }
   ],
   "source": [
    "print(cchar[::-3])\n",
    "print(cposi[::-3])"
   ]
  },
  {
   "cell_type": "code",
   "execution_count": 9,
   "metadata": {},
   "outputs": [
    {
     "name": "stdout",
     "output_type": "stream",
     "text": [
      "jfb\n",
      "951\n"
     ]
    }
   ],
   "source": [
    "print(cchar[::-4])\n",
    "print(cposi[::-4])"
   ]
  },
  {
   "cell_type": "markdown",
   "metadata": {},
   "source": [
    "> atribuindo string errado a cchar e corrigindo\n",
    "> cchar recebe 'doce ed leite'\n"
   ]
  },
  {
   "cell_type": "code",
   "execution_count": 32,
   "metadata": {},
   "outputs": [
    {
     "name": "stdout",
     "output_type": "stream",
     "text": [
      "doce ed leite\n",
      "doce de leite\n",
      "doce de leite\n",
      "doce de leite\n"
     ]
    }
   ],
   "source": [
    "cchar = 'doce ed leite'\n",
    "print(cchar)\n",
    "print(cchar[0:4],cchar[-7:-9:-1],cchar[8:])\n",
    "print(cchar[0:4],cchar[6]+cchar[5],cchar[8:],sep=' ')\n",
    "print(cchar[0:4],cchar[6]+cchar[5],cchar[8:])\n",
    "# OBSERVAR BEM O QUE ACONTECE SE print(cchar[0:4],cchar[6],cchar[5],cchar[8:],sep=' ') SEM USAR INDICE NEGATIVO"
   ]
  },
  {
   "cell_type": "code",
   "execution_count": 26,
   "metadata": {},
   "outputs": [
    {
     "name": "stdout",
     "output_type": "stream",
     "text": [
      "doc\n"
     ]
    }
   ],
   "source": [
    "print(cchar[0]+cchar[1]+cchar[2])"
   ]
  },
  {
   "cell_type": "code",
   "execution_count": 35,
   "metadata": {},
   "outputs": [
    {
     "data": {
      "text/plain": [
       "'doce ed leite com requeijão'"
      ]
     },
     "execution_count": 35,
     "metadata": {},
     "output_type": "execute_result"
    }
   ],
   "source": [
    "# TESTE DE CONCATENAÇÃO\n",
    "cchar = 'doce de leite'\n",
    "cchar += ' com requeijão'\n",
    "cchar"
   ]
  },
  {
   "cell_type": "code",
   "execution_count": 40,
   "metadata": {},
   "outputs": [
    {
     "name": "stdout",
     "output_type": "stream",
     "text": [
      "d\n",
      "['doce', 'ed', 'leite', 'com', 'requeijão']\n",
      "['doce', 'de', 'leite']\n"
     ]
    }
   ],
   "source": [
    "# TESTE COM METODO .SPLIT()\n",
    "charsplited = cchar.split()\n",
    "print(cchar[0])\n",
    "print(charsplited)\n",
    "cchar = 'doce;de;leite'\n",
    "charsplited = cchar.split(';')\n",
    "print(charsplited)"
   ]
  },
  {
   "cell_type": "code",
   "execution_count": 42,
   "metadata": {},
   "outputs": [
    {
     "data": {
      "text/plain": [
       "'Patati patata'"
      ]
     },
     "execution_count": 42,
     "metadata": {},
     "output_type": "execute_result"
    }
   ],
   "source": [
    "# SÓ A PRIMEIRA EM MAIÚSCULA\n",
    "cchar = 'patati patata'\n",
    "cchar.capitalize()"
   ]
  },
  {
   "cell_type": "code",
   "execution_count": 49,
   "metadata": {},
   "outputs": [
    {
     "name": "stdout",
     "output_type": "stream",
     "text": [
      "i 1\n",
      "p 2\n",
      "t 4\n",
      "a 5\n",
      "ta 3\n",
      "nulo 14\n",
      "len(cchar) 13\n"
     ]
    }
   ],
   "source": [
    "# CONTAGEM DE OCORRÊNCIAS\n",
    "cchar = 'patati patata'\n",
    "print('i',cchar.count('i'))\n",
    "print('p',cchar.count('p'))\n",
    "print('t',cchar.count('t'))\n",
    "print('a',cchar.count('a'))\n",
    "print('ta',cchar.count('ta'))\n",
    "# ANOMALIA!!!\n",
    "print('nulo',cchar.count(''))\n",
    "print('len(cchar)',len(cchar))"
   ]
  },
  {
   "cell_type": "code",
   "execution_count": null,
   "metadata": {},
   "outputs": [],
   "source": []
  }
 ],
 "metadata": {
  "kernelspec": {
   "display_name": "Python 3.8.3 64-bit ('ovgalva': virtualenv)",
   "language": "python",
   "name": "python38364bitovgalvavirtualenv55955dac564f40579d96bce56c92f900"
  },
  "language_info": {
   "codemirror_mode": {
    "name": "ipython",
    "version": 3
   },
   "file_extension": ".py",
   "mimetype": "text/x-python",
   "name": "python",
   "nbconvert_exporter": "python",
   "pygments_lexer": "ipython3",
   "version": "3.8.6"
  }
 },
 "nbformat": 4,
 "nbformat_minor": 4
}
