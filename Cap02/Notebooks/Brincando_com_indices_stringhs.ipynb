{
 "cells": [
  {
   "cell_type": "markdown",
   "metadata": {},
   "source": [
    "### brincando com indice e métodos dos objetos tipo string (cadeias de caracteres)\n",
    "\n",
    "> todos métodos -> aqui https://www.programiz.com/python-programming/methods/string/\n",
    "\n",
    "#### A variável cchar recebe os 10 primeiros caracteres do alfabeto\n",
    "#### e variavel cposi recebe o numero do indice de cada letra 0-9\n",
    "\n",
    ">depois é brincar com o indice cchar[poisção inicial:(posição final - 1):repeticão]\n",
    ">\n",
    ">cposi[poisção inicial:(posição final + 1):repeticão]\n",
    ">"
   ]
  },
  {
   "cell_type": "markdown",
   "metadata": {},
   "source": [
    "Neste quadro vou testar como partes de strings, listas, dicionários e tuplas retornam o seu conteudo  \n",
    "com a notação (p_ini:p_fini:v_inc) - respectivamente posição inicial, posição final, incremento  \n"
   ]
  },
  {
   "cell_type": "code",
   "execution_count": 20,
   "metadata": {},
   "outputs": [
    {
     "name": "stdout",
     "output_type": "stream",
     "text": [
      "m_string ->  0123456789  - tamanho =  10\n",
      "m_lista ->  [0, 1, 2, 3, 4, 5, 6, 7, 8, 9]  - tamanho =  10\n",
      "m_lista_de_listas ->  [[0, 1], [2, 3, 4], [4, 5], [6, 7, 8], [9]]  - tamanho =  5\n",
      "m_dicio ->  {0: 'zero', 1: 'um', 2: 'dois', 3: 'tres', 4: 'quatro', 5: 'cinco', 6: 'seis', 7: 'sete', 8: 'oito', 9: 'nove'}  - tamanho =  10\n",
      "\\Imprimindo sub-listas e seus tamanhos\n",
      "\n",
      "sublista 0 ->  [0, 1]  - tamanho =  2\n",
      "sublista 1 ->  [2, 3, 4]  - tamanho =  3\n",
      "sublista 2 ->  [4, 5]  - tamanho =  2\n",
      "sublista 3 ->  [6, 7, 8]  - tamanho =  3\n",
      "sublista 4 ->  [9]  - tamanho =  1 \n",
      "\n"
     ]
    }
   ],
   "source": [
    "# inicializa variáveis de armazenamento de strigs, listas e listas de listas\n",
    "m_string = '0123456789'\n",
    "m_lista = [0,1,2,3,4,5,6,7,8,9]\n",
    "m_lista_de_listas = [[0,1], [2,3,4], [4,5], [6,7,8], [9]]\n",
    "m_dicio = {0:'zero', 1:'um', 2:'dois', 3:'tres', 4:'quatro', 5:'cinco', 6:'seis', 7:'sete', 8:'oito', 9:'nove'}\n",
    "\n",
    "# extrai o tamanho de cada variável criada\n",
    "\n",
    "m_string_sz = len(m_string)\n",
    "m_lista_sz = len(m_lista)\n",
    "m_lista_de_listas_sz = len(m_lista_de_listas)\n",
    "m_dicio_sz = len(m_dicio)\n",
    "\n",
    "print('m_string -> ', m_string, ' - tamanho = ', m_string_sz)\n",
    "print('m_lista -> ', m_lista, ' - tamanho = ', m_lista_sz)\n",
    "print('m_lista_de_listas -> ', m_lista_de_listas, ' - tamanho = ', m_lista_de_listas_sz)\n",
    "print('m_dicio -> ', m_dicio, ' - tamanho = ', m_dicio_sz)\n",
    "\n",
    "# retorna tamanho de cada sub-lista em m_lista_de_listas\n",
    "\n",
    "m_ldl_sz0 = len(m_lista_de_listas[0])\n",
    "m_ldl_sz1 = len(m_lista_de_listas[1])\n",
    "m_ldl_sz2 = len(m_lista_de_listas[2])\n",
    "m_ldl_sz3 = len(m_lista_de_listas[3])\n",
    "m_ldl_sz4 = len(m_lista_de_listas[4])\n",
    "\n",
    "print('\\Imprimindo sub-listas e seus tamanhos\\n')\n",
    "print('sublista 0 -> ', m_lista_de_listas[0], ' - tamanho = ', m_ldl_sz0)\n",
    "print('sublista 1 -> ', m_lista_de_listas[1], ' - tamanho = ', m_ldl_sz1)\n",
    "print('sublista 2 -> ', m_lista_de_listas[2], ' - tamanho = ', m_ldl_sz2)\n",
    "print('sublista 3 -> ', m_lista_de_listas[3], ' - tamanho = ', m_ldl_sz3)\n",
    "print('sublista 4 -> ', m_lista_de_listas[4], ' - tamanho = ', m_ldl_sz4, '\\n''' )\n",
    "\n",
    "# continua na proxima célula"
   ]
  },
  {
   "cell_type": "markdown",
   "metadata": {},
   "source": [
    "Primeiro vamos utilizar utilizar a __notação string|lista|indice(::)__  \n",
    "> não usaremos tuplas ()  \n",
    "  \n",
    "Depois se desenvolverá a formula geral, com o auxilio das variáveis abaixo,  \n",
    "para calcular a posição inicial, final e incremento para se obter o pedaço de variável desejado.  \n",
    "  \n",
    "1) armazenamento de:  \n",
    "m_string -> string  \n",
    "m_lista -> lista  \n",
    "m_lista_de_listas -> lista de listas  \n",
    "m_dicio -> dicionário  \n",
    "2) armazenamento de tamanhos de:  \n",
    "m_string_sz -> string  \n",
    "m_lista_sz -> lista  \n",
    "m_lista_de_listas_sz -> lista de listas  \n",
    "m_dicio_sz -> dicionário  \n",
    "m_ldl_sz0 -> sublista 0  \n",
    "m_ldl_sz1 -> sublista 1  \n",
    "m_ldl_sz2 -> sublista 2  \n",
    "m_ldl_sz3 -> sublista 3  \n",
    "m_ldl_sz4 -> sublista 4  \n",
    "3) armazenamento de contadores e incrementais  \n",
    "p_ini -> posição inicial  \n",
    "p_fim -> posição final  \n",
    "v_inc -> incrementador  \n"
   ]
  },
  {
   "cell_type": "code",
   "execution_count": null,
   "metadata": {},
   "outputs": [],
   "source": [
    "# inicializa variáveis para calculos de posição e tanaho do que quer retornar\n",
    "p_ini = p_fim = v_inc = 0\n"
   ]
  },
  {
   "cell_type": "markdown",
   "metadata": {},
   "source": [
    "### pega os caracteres nas posiçõe múltiplas do número de repetição "
   ]
  },
  {
   "cell_type": "code",
   "execution_count": null,
   "metadata": {},
   "outputs": [],
   "source": [
    "cchar = 'abcdefghij'\n",
    "cposi = '0123456789'"
   ]
  },
  {
   "cell_type": "markdown",
   "metadata": {},
   "source": [
    "> de um em um"
   ]
  },
  {
   "cell_type": "code",
   "execution_count": null,
   "metadata": {},
   "outputs": [],
   "source": [
    "print(cchar[::1])\n",
    "print(cposi[::1])"
   ]
  },
  {
   "cell_type": "markdown",
   "metadata": {},
   "source": [
    "> de dois em dois"
   ]
  },
  {
   "cell_type": "code",
   "execution_count": null,
   "metadata": {},
   "outputs": [],
   "source": [
    "print(cchar[::2])\n",
    "print(cposi[::2])"
   ]
  },
  {
   "cell_type": "markdown",
   "metadata": {},
   "source": [
    "> de três em três"
   ]
  },
  {
   "cell_type": "code",
   "execution_count": null,
   "metadata": {
    "scrolled": true
   },
   "outputs": [],
   "source": [
    "print(cchar[::3])\n",
    "print(cposi[::3])"
   ]
  },
  {
   "cell_type": "markdown",
   "metadata": {},
   "source": [
    "> de quatro em quatro"
   ]
  },
  {
   "cell_type": "code",
   "execution_count": null,
   "metadata": {},
   "outputs": [],
   "source": [
    "print(cchar[::4])\n",
    "print(cposi[::4])"
   ]
  },
  {
   "cell_type": "markdown",
   "metadata": {},
   "source": [
    "de trás pra frente"
   ]
  },
  {
   "cell_type": "code",
   "execution_count": null,
   "metadata": {},
   "outputs": [],
   "source": [
    "print(cchar[::-1])\n",
    "print(cposi[::-1])"
   ]
  },
  {
   "cell_type": "code",
   "execution_count": null,
   "metadata": {},
   "outputs": [],
   "source": [
    "print(cchar[::-2])\n",
    "print(cposi[::-2])"
   ]
  },
  {
   "cell_type": "code",
   "execution_count": null,
   "metadata": {},
   "outputs": [],
   "source": [
    "print(cchar[::-3])\n",
    "print(cposi[::-3])"
   ]
  },
  {
   "cell_type": "code",
   "execution_count": null,
   "metadata": {},
   "outputs": [],
   "source": [
    "print(cchar[::-4])\n",
    "print(cposi[::-4])"
   ]
  },
  {
   "cell_type": "markdown",
   "metadata": {},
   "source": [
    "> atribuindo string errado a cchar e corrigindo\n",
    "> cchar recebe 'doce ed leite'\n"
   ]
  },
  {
   "cell_type": "code",
   "execution_count": null,
   "metadata": {},
   "outputs": [],
   "source": [
    "cchar = 'doce ed leite'\n",
    "print(cchar)\n",
    "print(cchar[0:4],cchar[-7:-9:-1],cchar[8:])\n",
    "print(cchar[0:4],cchar[6]+cchar[5],cchar[8:],sep=' ')\n",
    "print(cchar[0:4],cchar[6]+cchar[5],cchar[8:])\n",
    "# OBSERVAR BEM O QUE ACONTECE SE print(cchar[0:4],cchar[6],cchar[5],cchar[8:],sep=' ') SEM USAR INDICE NEGATIVO"
   ]
  },
  {
   "cell_type": "code",
   "execution_count": null,
   "metadata": {},
   "outputs": [],
   "source": [
    "print(cchar[0]+cchar[1]+cchar[2])"
   ]
  },
  {
   "cell_type": "code",
   "execution_count": null,
   "metadata": {},
   "outputs": [],
   "source": [
    "# TESTE DE CONCATENAÇÃO\n",
    "cchar = 'doce de leite'\n",
    "cchar += ' com requeijão'\n",
    "cchar"
   ]
  },
  {
   "cell_type": "code",
   "execution_count": null,
   "metadata": {},
   "outputs": [],
   "source": [
    "# TESTE COM METODO .SPLIT()\n",
    "charsplited = cchar.split()\n",
    "print(cchar[0])\n",
    "print(charsplited)\n",
    "cchar = 'doce;de;leite'\n",
    "charsplited = cchar.split(';')\n",
    "print(charsplited)"
   ]
  },
  {
   "cell_type": "code",
   "execution_count": null,
   "metadata": {},
   "outputs": [],
   "source": [
    "# SÓ A PRIMEIRA EM MAIÚSCULA\n",
    "cchar = 'patati patata'\n",
    "cchar.capitalize()"
   ]
  },
  {
   "cell_type": "code",
   "execution_count": null,
   "metadata": {},
   "outputs": [],
   "source": [
    "# CONTAGEM DE OCORRÊNCIAS\n",
    "cchar = 'patati patata'\n",
    "print('i',cchar.count('i'))\n",
    "print('p',cchar.count('p'))\n",
    "print('t',cchar.count('t'))\n",
    "print('a',cchar.count('a'))\n",
    "print('ta',cchar.count('ta'))\n",
    "# ANOMALIA!!!\n",
    "print('nulo',cchar.count(''))\n",
    "print('len(cchar)',len(cchar))"
   ]
  },
  {
   "cell_type": "code",
   "execution_count": null,
   "metadata": {},
   "outputs": [],
   "source": []
  }
 ],
 "metadata": {
  "kernelspec": {
   "display_name": "Python 3.8.3 64-bit ('ovgalva': virtualenv)",
   "language": "python",
   "name": "python38364bitovgalvavirtualenv55955dac564f40579d96bce56c92f900"
  },
  "language_info": {
   "codemirror_mode": {
    "name": "ipython",
    "version": 3
   },
   "file_extension": ".py",
   "mimetype": "text/x-python",
   "name": "python",
   "nbconvert_exporter": "python",
   "pygments_lexer": "ipython3",
   "version": "3.8.6"
  }
 },
 "nbformat": 4,
 "nbformat_minor": 4
}
