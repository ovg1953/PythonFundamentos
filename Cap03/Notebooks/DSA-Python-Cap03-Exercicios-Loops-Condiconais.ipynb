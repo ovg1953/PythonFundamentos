{
 "cells": [
  {
   "cell_type": "markdown",
   "metadata": {},
   "source": [
    "# <font color='blue'>Data Science Academy - Python Fundamentos - Capítulo 3</font>\n",
    "\n",
    "## Download: http://github.com/dsacademybr"
   ]
  },
  {
   "cell_type": "code",
   "execution_count": null,
   "metadata": {},
   "outputs": [],
   "source": [
    "# Versão da Linguagem Python\n",
    "from platform import python_version\n",
    "print('Versão da Linguagem Python Usada Neste Jupyter Notebook:', python_version())"
   ]
  },
  {
   "cell_type": "markdown",
   "metadata": {},
   "source": [
    "## Exercícios - Loops e Condiconais"
   ]
  },
  {
   "cell_type": "code",
   "execution_count": null,
   "metadata": {},
   "outputs": [],
   "source": [
    "# Exercício 1 - Crie uma estrutura que pergunte ao usuário qual o dia da semana. Se o dia for igual a Domingo ou \n",
    "# igual a sábado, imprima na tela \"Hoje é dia de descanso\", caso contrário imprima na tela \"Você precisa trabalhar!\""
   ]
  },
  {
   "cell_type": "code",
   "execution_count": 11,
   "metadata": {
    "scrolled": true
   },
   "outputs": [
    {
     "name": "stdout",
     "output_type": "stream",
     "text": [
      "['segunda', 'terça', 'quarta', 'quinta', 'sexta', 'sabado', 'domingo']\n",
      "Que dia é hoje? ou \"!\" para encerrar\n",
      "sabado\n",
      "Só Alegria!!!\n",
      "Obrigado\n",
      "bom fim de semana\n"
     ]
    }
   ],
   "source": [
    "# inicializa lista com dias da semana para testar nome de dia válido\n",
    "dias_da_semana = ['segunda', 'terça', 'quarta', 'quinta', 'sexta', 'sabado', 'domingo']\n",
    "# para ter certeza de não errar...\n",
    "de_folga = (1 == 1)\n",
    "# inicializa variável que tanto recebe dia da semana digitado pelo usuário, bem como \n",
    "# \"!\" para encerrara execução do programa\n",
    "fica_no_loop = \" \"\n",
    "while fica_no_loop != '!':\n",
    "    print(dias_da_semana)\n",
    "    fica_no_loop = input(\"Que dia é hoje? ou \\\"!\\\" para encerrar\\n\")\n",
    "    if fica_no_loop == '!':\n",
    "        break\n",
    "\n",
    "    elif not(fica_no_loop in dias_da_semana):\n",
    "        print ('\\n\\n\\n\\ Alguma coisa deu errado...')\n",
    "        print ('Voce deve digitar o nome do dia da semana ou ! para encerrar...')\n",
    "        continue\n",
    "    \n",
    "    elif (fica_no_loop == 'sabado') or (fica_no_loop == 'domingo'):\n",
    "        print ('Só Alegria!!!')\n",
    "        break\n",
    "    else:\n",
    "        print ('vai trabalhar seu sacana...''')\n",
    "        de_folga = (1==0)  \n",
    "        break\n",
    "print('Obrigado')\n",
    "if de_folga:\n",
    "      print(\"bom fim de semana\")\n",
    "else:\n",
    "      print('bom trabalho')\n"
   ]
  },
  {
   "cell_type": "code",
   "execution_count": 10,
   "metadata": {},
   "outputs": [],
   "source": [
    "# Exercício 2 - Crie uma lista de 5 frutas e verifique se a fruta 'Morango' faz parte da lista"
   ]
  },
  {
   "cell_type": "code",
   "execution_count": 8,
   "metadata": {},
   "outputs": [
    {
     "name": "stdout",
     "output_type": "stream",
     "text": [
      "tem \"Morango\" não; Ói só...\n",
      "\n",
      "['melancia', 'jaca', 'morango', 'caqui', 'banana']\n"
     ]
    }
   ],
   "source": [
    "lista_de_frutas = ['melancia', 'jaca', 'morango', 'caqui', 'banana']\n",
    "xyz = 'Morango'\n",
    "if xyz in lista_de_frutas:\n",
    "    print ('Tem \"Morango\" sim\\n')\n",
    "else:\n",
    "    print ('tem \"Morango\" não; Ói só...\\n')\n",
    "    print (lista_de_frutas)"
   ]
  },
  {
   "cell_type": "code",
   "execution_count": null,
   "metadata": {},
   "outputs": [],
   "source": [
    "# Exercício 3 - Crie uma tupla de 4 elementos, multiplique cada elemento da tupla por 2 e guarde os resultados em uma \n",
    "# lista"
   ]
  },
  {
   "cell_type": "code",
   "execution_count": 17,
   "metadata": {},
   "outputs": [
    {
     "data": {
      "text/plain": [
       "[2, 4, 6, 8]"
      ]
     },
     "execution_count": 17,
     "metadata": {},
     "output_type": "execute_result"
    }
   ],
   "source": [
    "m_tup=(1,2,3, 4)\n",
    "m_lst = []\n",
    "for x in m_tup:\n",
    "    m_lst.append(x*2)\n",
    "m_lst\n",
    "    "
   ]
  },
  {
   "cell_type": "code",
   "execution_count": null,
   "metadata": {},
   "outputs": [],
   "source": [
    "# Exercício 4 - Crie uma sequência de números pares entre 100 e 150 e imprima na tela"
   ]
  },
  {
   "cell_type": "code",
   "execution_count": 19,
   "metadata": {},
   "outputs": [
    {
     "name": "stdout",
     "output_type": "stream",
     "text": [
      "100 - 102 - 104 - 106 - 108 - 110 - 112 - 114 - 116 - 118 - 120 - 122 - 124 - 126 - 128 - 130 - 132 - 134 - 136 - 138 - 140 - 142 - 144 - 146 - 148 - 150 - "
     ]
    }
   ],
   "source": [
    "for x in range(100,151,2):\n",
    "    print (str(x), end=' - ')"
   ]
  },
  {
   "cell_type": "code",
   "execution_count": null,
   "metadata": {},
   "outputs": [],
   "source": [
    "# Exercício 5 - Crie uma variável chamada temperatura e atribua o valor 40. Enquanto temperatura for maior que 35, \n",
    "# imprima as temperaturas na tela"
   ]
  },
  {
   "cell_type": "code",
   "execution_count": 22,
   "metadata": {},
   "outputs": [
    {
     "name": "stdout",
     "output_type": "stream",
     "text": [
      "range(40, 35, -1)\n"
     ]
    }
   ],
   "source": [
    "temperatura = 0\n",
    "print(range(40,35,-1))\n",
    "\n",
    "    "
   ]
  },
  {
   "cell_type": "code",
   "execution_count": null,
   "metadata": {},
   "outputs": [],
   "source": [
    "# Exercício 6 - Crie uma variável chamada contador = 0. Enquanto counter for menor que 100, imprima os valores na tela,\n",
    "# mas quando for encontrado o valor 23, interrompa a execução do programa"
   ]
  },
  {
   "cell_type": "code",
   "execution_count": null,
   "metadata": {},
   "outputs": [],
   "source": [
    "# Exercício 7 - Crie uma lista vazia e uma variável com valor 4. Enquanto o valor da variável for menor ou igual a 20, \n",
    "# adicione à lista, apenas os valores pares e imprima a lista"
   ]
  },
  {
   "cell_type": "code",
   "execution_count": null,
   "metadata": {},
   "outputs": [],
   "source": [
    "# Exercício 8 - Transforme o resultado desta função range em uma lista: range(5, 45, 2)\n",
    "nums = range(5, 45, 2)"
   ]
  },
  {
   "cell_type": "code",
   "execution_count": null,
   "metadata": {},
   "outputs": [],
   "source": [
    "# Exercício 9 - Faça a correção dos erros no código abaixo e execute o programa. Dica: são 3 erros.\n",
    "temperatura = float(input('Qual a temperatura? '))\n",
    "if temperatura > 30\n",
    "print('Vista roupas leves.')\n",
    "else\n",
    "    print('Busque seus casacos.')"
   ]
  },
  {
   "cell_type": "code",
   "execution_count": null,
   "metadata": {},
   "outputs": [],
   "source": [
    "# Exercício 10 - Faça um programa que conte quantas vezes a letra \"r\" aparece na frase abaixo. Use um placeholder na \n",
    "# sua instrução de impressão\n",
    "\n",
    "# “É melhor, muito melhor, contentar-se com a realidade; se ela não é tão brilhante como os sonhos, tem pelo menos a \n",
    "# vantagem de existir.” (Machado de Assis)\n",
    "\n",
    "frase = \"É melhor, muito melhor, contentar-se com a realidade; se ela não é tão brilhante como os sonhos, tem pelo menos a vantagem de existir.\" "
   ]
  },
  {
   "cell_type": "markdown",
   "metadata": {},
   "source": [
    "# Fim"
   ]
  },
  {
   "cell_type": "markdown",
   "metadata": {},
   "source": [
    "### Obrigado - Data Science Academy - <a href=\"http://facebook.com/dsacademybr\">facebook.com/dsacademybr</a>"
   ]
  }
 ],
 "metadata": {
  "kernelspec": {
   "display_name": "Python 3",
   "language": "python",
   "name": "python3"
  },
  "language_info": {
   "codemirror_mode": {
    "name": "ipython",
    "version": 3
   },
   "file_extension": ".py",
   "mimetype": "text/x-python",
   "name": "python",
   "nbconvert_exporter": "python",
   "pygments_lexer": "ipython3",
   "version": "3.8.6"
  }
 },
 "nbformat": 4,
 "nbformat_minor": 1
}
